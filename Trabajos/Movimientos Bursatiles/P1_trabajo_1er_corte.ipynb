{
  "nbformat": 4,
  "nbformat_minor": 0,
  "metadata": {
    "colab": {
      "name": "P1_trabajo_1er_corte.ipynb",
      "provenance": []
    },
    "kernelspec": {
      "name": "python3",
      "display_name": "Python 3"
    },
    "language_info": {
      "name": "python"
    }
  },
  "cells": [
    {
      "cell_type": "markdown",
      "metadata": {
        "id": "U6_GqEwPd3_H"
      },
      "source": [
        "#Acciones de Doge-USD\n",
        "##Instalamos las librerias\n",
        "\n"
      ]
    },
    {
      "cell_type": "code",
      "metadata": {
        "id": "WQDfTFvSB8MC",
        "colab": {
          "base_uri": "https://localhost:8080/"
        },
        "outputId": "d1ab3435-0ab4-461f-9963-b6324164597b"
      },
      "source": [
        "# necesitamos la libreria WIKITABLES para descargar tablas de Wikipedia (y mantener actualizada la data)\n",
        "# Necesitamos la libreria FSSPEC (Interfaces de sistema de archivos para Python)\n",
        "# Necesitamos la libreria  beautifulsoup4 : para raspado web altamente evolucionadas\n",
        "#!pip install wikitables\n",
        "!pip install fsspec\n",
        "!pip install beautifulsoup4 "
      ],
      "execution_count": 2,
      "outputs": [
        {
          "output_type": "stream",
          "name": "stdout",
          "text": [
            "Requirement already satisfied: fsspec in /usr/local/lib/python3.7/dist-packages (2021.9.0)\n",
            "Requirement already satisfied: beautifulsoup4 in /usr/local/lib/python3.7/dist-packages (4.6.3)\n"
          ]
        }
      ]
    },
    {
      "cell_type": "markdown",
      "metadata": {
        "id": "648GCSebeDst"
      },
      "source": [
        "##Importamos librerias"
      ]
    },
    {
      "cell_type": "code",
      "metadata": {
        "id": "bttPjpzheIE2"
      },
      "source": [
        "import numpy as np\n",
        "import pandas as pd\n",
        "from sklearn.cluster import KMeans\n",
        "from sklearn import preprocessing  #para normalizar los datos antes de aplicar al algoritmo\n",
        "from sklearn.metrics import pairwise_distances_argmin_min\n",
        "\n",
        "import matplotlib.pyplot as plt\n",
        "import seaborn as sb\n",
        "from mpl_toolkits.mplot3d import Axes3D   #para graficas en 3D\n",
        "\n",
        "import requests                           # libreria para manejar pedidos internet\n",
        "from bs4 import BeautifulSoup             # libreria para parsear documentos HTML\n",
        "\n",
        "#from wikitables import import_tables    # para descargar tablas de Wikipedia\n",
        "from sklearn.decomposition import PCA   # Análisis de componentes principales (PCA).\n",
        "\n",
        "#configuraciones basicas para PLT\n",
        "%matplotlib inline\n",
        "plt.rcParams['figure.figsize'] = (16, 9)\n",
        "plt.style.use('ggplot')"
      ],
      "execution_count": 3,
      "outputs": []
    },
    {
      "cell_type": "markdown",
      "metadata": {
        "id": "CxEqeoOKeLb6"
      },
      "source": [
        "##Importamos el dataset"
      ]
    },
    {
      "cell_type": "code",
      "metadata": {
        "colab": {
          "base_uri": "https://localhost:8080/",
          "height": 824
        },
        "id": "FnNSjOFXeLA3",
        "outputId": "844a6c99-9b64-481b-957a-3a2b3c2ef0a7"
      },
      "source": [
        "df_acciones = pd.read_csv(\"https://raw.githubusercontent.com/DerUwU/Deep-Learning/main/Trabajos/Movimientos%20Bursatiles/Databases/EURGBP.csv\")\n",
        "df_acciones.head(25)"
      ],
      "execution_count": 4,
      "outputs": [
        {
          "output_type": "execute_result",
          "data": {
            "text/html": [
              "<div>\n",
              "<style scoped>\n",
              "    .dataframe tbody tr th:only-of-type {\n",
              "        vertical-align: middle;\n",
              "    }\n",
              "\n",
              "    .dataframe tbody tr th {\n",
              "        vertical-align: top;\n",
              "    }\n",
              "\n",
              "    .dataframe thead th {\n",
              "        text-align: right;\n",
              "    }\n",
              "</style>\n",
              "<table border=\"1\" class=\"dataframe\">\n",
              "  <thead>\n",
              "    <tr style=\"text-align: right;\">\n",
              "      <th></th>\n",
              "      <th>Date</th>\n",
              "      <th>Open</th>\n",
              "      <th>High</th>\n",
              "      <th>Low</th>\n",
              "      <th>Close</th>\n",
              "      <th>Adj Close</th>\n",
              "      <th>Volume</th>\n",
              "    </tr>\n",
              "  </thead>\n",
              "  <tbody>\n",
              "    <tr>\n",
              "      <th>0</th>\n",
              "      <td>2011-01-25</td>\n",
              "      <td>0.85343</td>\n",
              "      <td>0.86500</td>\n",
              "      <td>0.85300</td>\n",
              "      <td>0.85339</td>\n",
              "      <td>0.85339</td>\n",
              "      <td>0.0</td>\n",
              "    </tr>\n",
              "    <tr>\n",
              "      <th>1</th>\n",
              "      <td>2011-01-26</td>\n",
              "      <td>0.86510</td>\n",
              "      <td>0.86700</td>\n",
              "      <td>0.85990</td>\n",
              "      <td>0.86500</td>\n",
              "      <td>0.86500</td>\n",
              "      <td>0.0</td>\n",
              "    </tr>\n",
              "    <tr>\n",
              "      <th>2</th>\n",
              "      <td>2011-01-27</td>\n",
              "      <td>0.86077</td>\n",
              "      <td>0.86280</td>\n",
              "      <td>0.85816</td>\n",
              "      <td>0.86062</td>\n",
              "      <td>0.86062</td>\n",
              "      <td>0.0</td>\n",
              "    </tr>\n",
              "    <tr>\n",
              "      <th>3</th>\n",
              "      <td>2011-01-28</td>\n",
              "      <td>0.86150</td>\n",
              "      <td>0.86515</td>\n",
              "      <td>0.85920</td>\n",
              "      <td>0.86160</td>\n",
              "      <td>0.86160</td>\n",
              "      <td>0.0</td>\n",
              "    </tr>\n",
              "    <tr>\n",
              "      <th>4</th>\n",
              "      <td>2011-01-31</td>\n",
              "      <td>0.85750</td>\n",
              "      <td>0.86180</td>\n",
              "      <td>0.85580</td>\n",
              "      <td>0.85720</td>\n",
              "      <td>0.85720</td>\n",
              "      <td>0.0</td>\n",
              "    </tr>\n",
              "    <tr>\n",
              "      <th>5</th>\n",
              "      <td>2011-02-01</td>\n",
              "      <td>0.85550</td>\n",
              "      <td>0.85645</td>\n",
              "      <td>0.85080</td>\n",
              "      <td>0.85570</td>\n",
              "      <td>0.85570</td>\n",
              "      <td>0.0</td>\n",
              "    </tr>\n",
              "    <tr>\n",
              "      <th>6</th>\n",
              "      <td>2011-02-02</td>\n",
              "      <td>0.85680</td>\n",
              "      <td>0.85760</td>\n",
              "      <td>0.85120</td>\n",
              "      <td>0.85688</td>\n",
              "      <td>0.85688</td>\n",
              "      <td>0.0</td>\n",
              "    </tr>\n",
              "    <tr>\n",
              "      <th>7</th>\n",
              "      <td>2011-02-03</td>\n",
              "      <td>0.85230</td>\n",
              "      <td>0.85300</td>\n",
              "      <td>0.84380</td>\n",
              "      <td>0.85250</td>\n",
              "      <td>0.85250</td>\n",
              "      <td>0.0</td>\n",
              "    </tr>\n",
              "    <tr>\n",
              "      <th>8</th>\n",
              "      <td>2011-02-04</td>\n",
              "      <td>0.84440</td>\n",
              "      <td>0.84740</td>\n",
              "      <td>0.84220</td>\n",
              "      <td>0.84430</td>\n",
              "      <td>0.84430</td>\n",
              "      <td>0.0</td>\n",
              "    </tr>\n",
              "    <tr>\n",
              "      <th>9</th>\n",
              "      <td>2011-02-07</td>\n",
              "      <td>0.84294</td>\n",
              "      <td>0.84452</td>\n",
              "      <td>0.83870</td>\n",
              "      <td>0.84300</td>\n",
              "      <td>0.84300</td>\n",
              "      <td>0.0</td>\n",
              "    </tr>\n",
              "    <tr>\n",
              "      <th>10</th>\n",
              "      <td>2011-02-08</td>\n",
              "      <td>0.84250</td>\n",
              "      <td>0.85070</td>\n",
              "      <td>0.84180</td>\n",
              "      <td>0.84265</td>\n",
              "      <td>0.84265</td>\n",
              "      <td>0.0</td>\n",
              "    </tr>\n",
              "    <tr>\n",
              "      <th>11</th>\n",
              "      <td>2011-02-09</td>\n",
              "      <td>0.84800</td>\n",
              "      <td>0.85228</td>\n",
              "      <td>0.84700</td>\n",
              "      <td>0.84810</td>\n",
              "      <td>0.84810</td>\n",
              "      <td>0.0</td>\n",
              "    </tr>\n",
              "    <tr>\n",
              "      <th>12</th>\n",
              "      <td>2011-02-10</td>\n",
              "      <td>0.85200</td>\n",
              "      <td>0.85250</td>\n",
              "      <td>0.84570</td>\n",
              "      <td>0.85206</td>\n",
              "      <td>0.85206</td>\n",
              "      <td>0.0</td>\n",
              "    </tr>\n",
              "    <tr>\n",
              "      <th>13</th>\n",
              "      <td>2011-02-11</td>\n",
              "      <td>0.84500</td>\n",
              "      <td>0.84747</td>\n",
              "      <td>0.84210</td>\n",
              "      <td>0.84490</td>\n",
              "      <td>0.84490</td>\n",
              "      <td>0.0</td>\n",
              "    </tr>\n",
              "    <tr>\n",
              "      <th>14</th>\n",
              "      <td>2011-02-14</td>\n",
              "      <td>0.84405</td>\n",
              "      <td>0.84412</td>\n",
              "      <td>0.83990</td>\n",
              "      <td>0.84429</td>\n",
              "      <td>0.84429</td>\n",
              "      <td>0.0</td>\n",
              "    </tr>\n",
              "    <tr>\n",
              "      <th>15</th>\n",
              "      <td>2011-02-15</td>\n",
              "      <td>0.84114</td>\n",
              "      <td>0.84477</td>\n",
              "      <td>0.83600</td>\n",
              "      <td>0.84110</td>\n",
              "      <td>0.84110</td>\n",
              "      <td>0.0</td>\n",
              "    </tr>\n",
              "    <tr>\n",
              "      <th>16</th>\n",
              "      <td>2011-02-16</td>\n",
              "      <td>0.83649</td>\n",
              "      <td>0.84276</td>\n",
              "      <td>0.83630</td>\n",
              "      <td>0.83644</td>\n",
              "      <td>0.83644</td>\n",
              "      <td>0.0</td>\n",
              "    </tr>\n",
              "    <tr>\n",
              "      <th>17</th>\n",
              "      <td>2011-02-17</td>\n",
              "      <td>0.84320</td>\n",
              "      <td>0.84425</td>\n",
              "      <td>0.84000</td>\n",
              "      <td>0.84344</td>\n",
              "      <td>0.84344</td>\n",
              "      <td>0.0</td>\n",
              "    </tr>\n",
              "    <tr>\n",
              "      <th>18</th>\n",
              "      <td>2011-02-18</td>\n",
              "      <td>0.84196</td>\n",
              "      <td>0.84220</td>\n",
              "      <td>0.83570</td>\n",
              "      <td>0.84200</td>\n",
              "      <td>0.84200</td>\n",
              "      <td>0.0</td>\n",
              "    </tr>\n",
              "    <tr>\n",
              "      <th>19</th>\n",
              "      <td>2011-02-21</td>\n",
              "      <td>0.84372</td>\n",
              "      <td>0.84430</td>\n",
              "      <td>0.84090</td>\n",
              "      <td>0.84380</td>\n",
              "      <td>0.84380</td>\n",
              "      <td>0.0</td>\n",
              "    </tr>\n",
              "    <tr>\n",
              "      <th>20</th>\n",
              "      <td>2011-02-22</td>\n",
              "      <td>0.84290</td>\n",
              "      <td>0.84700</td>\n",
              "      <td>0.83830</td>\n",
              "      <td>0.84280</td>\n",
              "      <td>0.84280</td>\n",
              "      <td>0.0</td>\n",
              "    </tr>\n",
              "    <tr>\n",
              "      <th>21</th>\n",
              "      <td>2011-02-23</td>\n",
              "      <td>0.84610</td>\n",
              "      <td>0.84860</td>\n",
              "      <td>0.84300</td>\n",
              "      <td>0.84608</td>\n",
              "      <td>0.84608</td>\n",
              "      <td>0.0</td>\n",
              "    </tr>\n",
              "    <tr>\n",
              "      <th>22</th>\n",
              "      <td>2011-02-24</td>\n",
              "      <td>0.84738</td>\n",
              "      <td>0.85600</td>\n",
              "      <td>0.84700</td>\n",
              "      <td>0.84740</td>\n",
              "      <td>0.84740</td>\n",
              "      <td>0.0</td>\n",
              "    </tr>\n",
              "    <tr>\n",
              "      <th>23</th>\n",
              "      <td>2011-02-25</td>\n",
              "      <td>0.85600</td>\n",
              "      <td>0.85910</td>\n",
              "      <td>0.85400</td>\n",
              "      <td>0.85600</td>\n",
              "      <td>0.85600</td>\n",
              "      <td>0.0</td>\n",
              "    </tr>\n",
              "    <tr>\n",
              "      <th>24</th>\n",
              "      <td>2011-02-28</td>\n",
              "      <td>0.85302</td>\n",
              "      <td>0.85532</td>\n",
              "      <td>0.84900</td>\n",
              "      <td>0.85310</td>\n",
              "      <td>0.85310</td>\n",
              "      <td>0.0</td>\n",
              "    </tr>\n",
              "  </tbody>\n",
              "</table>\n",
              "</div>"
            ],
            "text/plain": [
              "          Date     Open     High      Low    Close  Adj Close  Volume\n",
              "0   2011-01-25  0.85343  0.86500  0.85300  0.85339    0.85339     0.0\n",
              "1   2011-01-26  0.86510  0.86700  0.85990  0.86500    0.86500     0.0\n",
              "2   2011-01-27  0.86077  0.86280  0.85816  0.86062    0.86062     0.0\n",
              "3   2011-01-28  0.86150  0.86515  0.85920  0.86160    0.86160     0.0\n",
              "4   2011-01-31  0.85750  0.86180  0.85580  0.85720    0.85720     0.0\n",
              "5   2011-02-01  0.85550  0.85645  0.85080  0.85570    0.85570     0.0\n",
              "6   2011-02-02  0.85680  0.85760  0.85120  0.85688    0.85688     0.0\n",
              "7   2011-02-03  0.85230  0.85300  0.84380  0.85250    0.85250     0.0\n",
              "8   2011-02-04  0.84440  0.84740  0.84220  0.84430    0.84430     0.0\n",
              "9   2011-02-07  0.84294  0.84452  0.83870  0.84300    0.84300     0.0\n",
              "10  2011-02-08  0.84250  0.85070  0.84180  0.84265    0.84265     0.0\n",
              "11  2011-02-09  0.84800  0.85228  0.84700  0.84810    0.84810     0.0\n",
              "12  2011-02-10  0.85200  0.85250  0.84570  0.85206    0.85206     0.0\n",
              "13  2011-02-11  0.84500  0.84747  0.84210  0.84490    0.84490     0.0\n",
              "14  2011-02-14  0.84405  0.84412  0.83990  0.84429    0.84429     0.0\n",
              "15  2011-02-15  0.84114  0.84477  0.83600  0.84110    0.84110     0.0\n",
              "16  2011-02-16  0.83649  0.84276  0.83630  0.83644    0.83644     0.0\n",
              "17  2011-02-17  0.84320  0.84425  0.84000  0.84344    0.84344     0.0\n",
              "18  2011-02-18  0.84196  0.84220  0.83570  0.84200    0.84200     0.0\n",
              "19  2011-02-21  0.84372  0.84430  0.84090  0.84380    0.84380     0.0\n",
              "20  2011-02-22  0.84290  0.84700  0.83830  0.84280    0.84280     0.0\n",
              "21  2011-02-23  0.84610  0.84860  0.84300  0.84608    0.84608     0.0\n",
              "22  2011-02-24  0.84738  0.85600  0.84700  0.84740    0.84740     0.0\n",
              "23  2011-02-25  0.85600  0.85910  0.85400  0.85600    0.85600     0.0\n",
              "24  2011-02-28  0.85302  0.85532  0.84900  0.85310    0.85310     0.0"
            ]
          },
          "metadata": {},
          "execution_count": 4
        }
      ]
    },
    {
      "cell_type": "markdown",
      "metadata": {
        "id": "0Ff4I00fvQM7"
      },
      "source": [
        "##Conociendo y preprocesando los datos"
      ]
    },
    {
      "cell_type": "code",
      "metadata": {
        "colab": {
          "base_uri": "https://localhost:8080/"
        },
        "id": "7GEBsVj4vUAa",
        "outputId": "f8509d04-e8d3-489c-9b01-d487944f25fa"
      },
      "source": [
        "#df.describe()\n",
        "df_acciones.isnull().sum()"
      ],
      "execution_count": 5,
      "outputs": [
        {
          "output_type": "execute_result",
          "data": {
            "text/plain": [
              "Date          0\n",
              "Open         23\n",
              "High         23\n",
              "Low          23\n",
              "Close        23\n",
              "Adj Close    23\n",
              "Volume       23\n",
              "dtype: int64"
            ]
          },
          "metadata": {},
          "execution_count": 5
        }
      ]
    },
    {
      "cell_type": "markdown",
      "metadata": {
        "id": "HRtR2BXyegXX"
      },
      "source": [
        "##Eliminamos las filas vacias\n",
        "Se eliminan los datos vacios (NA) y se resetea el indice"
      ]
    },
    {
      "cell_type": "code",
      "metadata": {
        "id": "lb8pHOsUeqAV"
      },
      "source": [
        "df_acciones = df_acciones.dropna()   # Se eliminan filas que tengan valor NaN.\n",
        "df_acciones = df_acciones.reset_index(drop=True)"
      ],
      "execution_count": 6,
      "outputs": []
    },
    {
      "cell_type": "markdown",
      "metadata": {
        "id": "527ayIZMeujl"
      },
      "source": [
        "##Cambiamos el tipo de dato en las columnas\n"
      ]
    },
    {
      "cell_type": "code",
      "metadata": {
        "colab": {
          "base_uri": "https://localhost:8080/",
          "height": 204
        },
        "id": "F8BEVzQGe7fq",
        "outputId": "0dcc7261-f549-42e4-96e2-6f87e00a0df2"
      },
      "source": [
        "df_acciones['Date']=pd.to_datetime(df_acciones['Date'])       # Convertimos el campo DATE en tipo fecha\n",
        "##df_acciones = df_acciones.rename(columns={'Name':'symbol'})   #cambiamos el nombre la col de NAME a  SYMBOL\n",
        "df_acciones.head()"
      ],
      "execution_count": 7,
      "outputs": [
        {
          "output_type": "execute_result",
          "data": {
            "text/html": [
              "<div>\n",
              "<style scoped>\n",
              "    .dataframe tbody tr th:only-of-type {\n",
              "        vertical-align: middle;\n",
              "    }\n",
              "\n",
              "    .dataframe tbody tr th {\n",
              "        vertical-align: top;\n",
              "    }\n",
              "\n",
              "    .dataframe thead th {\n",
              "        text-align: right;\n",
              "    }\n",
              "</style>\n",
              "<table border=\"1\" class=\"dataframe\">\n",
              "  <thead>\n",
              "    <tr style=\"text-align: right;\">\n",
              "      <th></th>\n",
              "      <th>Date</th>\n",
              "      <th>Open</th>\n",
              "      <th>High</th>\n",
              "      <th>Low</th>\n",
              "      <th>Close</th>\n",
              "      <th>Adj Close</th>\n",
              "      <th>Volume</th>\n",
              "    </tr>\n",
              "  </thead>\n",
              "  <tbody>\n",
              "    <tr>\n",
              "      <th>0</th>\n",
              "      <td>2011-01-25</td>\n",
              "      <td>0.85343</td>\n",
              "      <td>0.86500</td>\n",
              "      <td>0.85300</td>\n",
              "      <td>0.85339</td>\n",
              "      <td>0.85339</td>\n",
              "      <td>0.0</td>\n",
              "    </tr>\n",
              "    <tr>\n",
              "      <th>1</th>\n",
              "      <td>2011-01-26</td>\n",
              "      <td>0.86510</td>\n",
              "      <td>0.86700</td>\n",
              "      <td>0.85990</td>\n",
              "      <td>0.86500</td>\n",
              "      <td>0.86500</td>\n",
              "      <td>0.0</td>\n",
              "    </tr>\n",
              "    <tr>\n",
              "      <th>2</th>\n",
              "      <td>2011-01-27</td>\n",
              "      <td>0.86077</td>\n",
              "      <td>0.86280</td>\n",
              "      <td>0.85816</td>\n",
              "      <td>0.86062</td>\n",
              "      <td>0.86062</td>\n",
              "      <td>0.0</td>\n",
              "    </tr>\n",
              "    <tr>\n",
              "      <th>3</th>\n",
              "      <td>2011-01-28</td>\n",
              "      <td>0.86150</td>\n",
              "      <td>0.86515</td>\n",
              "      <td>0.85920</td>\n",
              "      <td>0.86160</td>\n",
              "      <td>0.86160</td>\n",
              "      <td>0.0</td>\n",
              "    </tr>\n",
              "    <tr>\n",
              "      <th>4</th>\n",
              "      <td>2011-01-31</td>\n",
              "      <td>0.85750</td>\n",
              "      <td>0.86180</td>\n",
              "      <td>0.85580</td>\n",
              "      <td>0.85720</td>\n",
              "      <td>0.85720</td>\n",
              "      <td>0.0</td>\n",
              "    </tr>\n",
              "  </tbody>\n",
              "</table>\n",
              "</div>"
            ],
            "text/plain": [
              "        Date     Open     High      Low    Close  Adj Close  Volume\n",
              "0 2011-01-25  0.85343  0.86500  0.85300  0.85339    0.85339     0.0\n",
              "1 2011-01-26  0.86510  0.86700  0.85990  0.86500    0.86500     0.0\n",
              "2 2011-01-27  0.86077  0.86280  0.85816  0.86062    0.86062     0.0\n",
              "3 2011-01-28  0.86150  0.86515  0.85920  0.86160    0.86160     0.0\n",
              "4 2011-01-31  0.85750  0.86180  0.85580  0.85720    0.85720     0.0"
            ]
          },
          "metadata": {},
          "execution_count": 7
        }
      ]
    },
    {
      "cell_type": "markdown",
      "metadata": {
        "id": "l8jmndwre4rs"
      },
      "source": [
        "##Definimos las columnas que se usaran"
      ]
    },
    {
      "cell_type": "code",
      "metadata": {
        "colab": {
          "base_uri": "https://localhost:8080/",
          "height": 204
        },
        "id": "n90JrmjSfIAn",
        "outputId": "33f01d4e-9c13-4bd5-cb53-62b4c1718bfd"
      },
      "source": [
        "open_table = df_acciones[['Date', 'Open']]\n",
        "open_table.head()"
      ],
      "execution_count": 11,
      "outputs": [
        {
          "output_type": "execute_result",
          "data": {
            "text/html": [
              "<div>\n",
              "<style scoped>\n",
              "    .dataframe tbody tr th:only-of-type {\n",
              "        vertical-align: middle;\n",
              "    }\n",
              "\n",
              "    .dataframe tbody tr th {\n",
              "        vertical-align: top;\n",
              "    }\n",
              "\n",
              "    .dataframe thead th {\n",
              "        text-align: right;\n",
              "    }\n",
              "</style>\n",
              "<table border=\"1\" class=\"dataframe\">\n",
              "  <thead>\n",
              "    <tr style=\"text-align: right;\">\n",
              "      <th></th>\n",
              "      <th>Date</th>\n",
              "      <th>Open</th>\n",
              "    </tr>\n",
              "  </thead>\n",
              "  <tbody>\n",
              "    <tr>\n",
              "      <th>0</th>\n",
              "      <td>2011-01-25</td>\n",
              "      <td>0.85343</td>\n",
              "    </tr>\n",
              "    <tr>\n",
              "      <th>1</th>\n",
              "      <td>2011-01-26</td>\n",
              "      <td>0.86510</td>\n",
              "    </tr>\n",
              "    <tr>\n",
              "      <th>2</th>\n",
              "      <td>2011-01-27</td>\n",
              "      <td>0.86077</td>\n",
              "    </tr>\n",
              "    <tr>\n",
              "      <th>3</th>\n",
              "      <td>2011-01-28</td>\n",
              "      <td>0.86150</td>\n",
              "    </tr>\n",
              "    <tr>\n",
              "      <th>4</th>\n",
              "      <td>2011-01-31</td>\n",
              "      <td>0.85750</td>\n",
              "    </tr>\n",
              "  </tbody>\n",
              "</table>\n",
              "</div>"
            ],
            "text/plain": [
              "        Date     Open\n",
              "0 2011-01-25  0.85343\n",
              "1 2011-01-26  0.86510\n",
              "2 2011-01-27  0.86077\n",
              "3 2011-01-28  0.86150\n",
              "4 2011-01-31  0.85750"
            ]
          },
          "metadata": {},
          "execution_count": 11
        }
      ]
    },
    {
      "cell_type": "code",
      "metadata": {
        "colab": {
          "base_uri": "https://localhost:8080/",
          "height": 204
        },
        "id": "Zk_S5N8Jr__8",
        "outputId": "579619c6-4c34-4f77-ba4f-f9fa573e3da1"
      },
      "source": [
        "close_table = df_acciones[['Date', 'Close']]\n",
        "close_table.head()"
      ],
      "execution_count": 12,
      "outputs": [
        {
          "output_type": "execute_result",
          "data": {
            "text/html": [
              "<div>\n",
              "<style scoped>\n",
              "    .dataframe tbody tr th:only-of-type {\n",
              "        vertical-align: middle;\n",
              "    }\n",
              "\n",
              "    .dataframe tbody tr th {\n",
              "        vertical-align: top;\n",
              "    }\n",
              "\n",
              "    .dataframe thead th {\n",
              "        text-align: right;\n",
              "    }\n",
              "</style>\n",
              "<table border=\"1\" class=\"dataframe\">\n",
              "  <thead>\n",
              "    <tr style=\"text-align: right;\">\n",
              "      <th></th>\n",
              "      <th>Date</th>\n",
              "      <th>Close</th>\n",
              "    </tr>\n",
              "  </thead>\n",
              "  <tbody>\n",
              "    <tr>\n",
              "      <th>0</th>\n",
              "      <td>2011-01-25</td>\n",
              "      <td>0.85339</td>\n",
              "    </tr>\n",
              "    <tr>\n",
              "      <th>1</th>\n",
              "      <td>2011-01-26</td>\n",
              "      <td>0.86500</td>\n",
              "    </tr>\n",
              "    <tr>\n",
              "      <th>2</th>\n",
              "      <td>2011-01-27</td>\n",
              "      <td>0.86062</td>\n",
              "    </tr>\n",
              "    <tr>\n",
              "      <th>3</th>\n",
              "      <td>2011-01-28</td>\n",
              "      <td>0.86160</td>\n",
              "    </tr>\n",
              "    <tr>\n",
              "      <th>4</th>\n",
              "      <td>2011-01-31</td>\n",
              "      <td>0.85720</td>\n",
              "    </tr>\n",
              "  </tbody>\n",
              "</table>\n",
              "</div>"
            ],
            "text/plain": [
              "        Date    Close\n",
              "0 2011-01-25  0.85339\n",
              "1 2011-01-26  0.86500\n",
              "2 2011-01-27  0.86062\n",
              "3 2011-01-28  0.86160\n",
              "4 2011-01-31  0.85720"
            ]
          },
          "metadata": {},
          "execution_count": 12
        }
      ]
    },
    {
      "cell_type": "markdown",
      "metadata": {
        "id": "SeQlc4bcfPqR"
      },
      "source": [
        "##Invertimos el dataframe para tener las acciones por fecha "
      ]
    },
    {
      "cell_type": "code",
      "metadata": {
        "colab": {
          "base_uri": "https://localhost:8080/",
          "height": 235
        },
        "id": "1R16PcP2wqRF",
        "outputId": "fb183d7f-90eb-4909-ac3f-f7d7298092c9"
      },
      "source": [
        "##NO CORRER\n",
        "#colocamos como indice la fecha, como columnas los iniciales de las empresas y como valor el CLOSE de cada celda\n",
        "open_table = open_table.pivot(index='Date', columns='Open', values='Open')\n",
        "open_table = open_table.dropna(axis=1)    #borramos filas vacias\n",
        "open_table.head(5)"
      ],
      "execution_count": 10,
      "outputs": [
        {
          "output_type": "execute_result",
          "data": {
            "text/html": [
              "<div>\n",
              "<style scoped>\n",
              "    .dataframe tbody tr th:only-of-type {\n",
              "        vertical-align: middle;\n",
              "    }\n",
              "\n",
              "    .dataframe tbody tr th {\n",
              "        vertical-align: top;\n",
              "    }\n",
              "\n",
              "    .dataframe thead th {\n",
              "        text-align: right;\n",
              "    }\n",
              "</style>\n",
              "<table border=\"1\" class=\"dataframe\">\n",
              "  <thead>\n",
              "    <tr style=\"text-align: right;\">\n",
              "      <th>Open</th>\n",
              "    </tr>\n",
              "    <tr>\n",
              "      <th>Date</th>\n",
              "    </tr>\n",
              "  </thead>\n",
              "  <tbody>\n",
              "    <tr>\n",
              "      <th>2011-01-25</th>\n",
              "    </tr>\n",
              "    <tr>\n",
              "      <th>2011-01-26</th>\n",
              "    </tr>\n",
              "    <tr>\n",
              "      <th>2011-01-27</th>\n",
              "    </tr>\n",
              "    <tr>\n",
              "      <th>2011-01-28</th>\n",
              "    </tr>\n",
              "    <tr>\n",
              "      <th>2011-01-31</th>\n",
              "    </tr>\n",
              "  </tbody>\n",
              "</table>\n",
              "</div>"
            ],
            "text/plain": [
              "Empty DataFrame\n",
              "Columns: []\n",
              "Index: [2011-01-25 00:00:00, 2011-01-26 00:00:00, 2011-01-27 00:00:00, 2011-01-28 00:00:00, 2011-01-31 00:00:00]"
            ]
          },
          "metadata": {},
          "execution_count": 10
        }
      ]
    },
    {
      "cell_type": "markdown",
      "metadata": {
        "id": "dMW_e1y1iNvj"
      },
      "source": [
        "##Normalización de los datos usando como base la fecha\n",
        "\n",
        "---\n",
        "Puede decidir volver a muestrear los datos:\n",
        "\n",
        "*  W - para datos semanales\n",
        "*  M - para datos mensuales\n",
        "*  Q - para el trimestre\n",
        "*  A - por año"
      ]
    },
    {
      "cell_type": "code",
      "metadata": {
        "colab": {
          "base_uri": "https://localhost:8080/"
        },
        "id": "3qck3uh-lwUd",
        "outputId": "bac518d6-1962-49e0-856e-d3b92156ef55"
      },
      "source": [
        "open_table['Date'] = pd.to_datetime(open_table['Date'])\n",
        "close_table['Date'] = pd.to_datetime(close_table['Date'])"
      ],
      "execution_count": 13,
      "outputs": [
        {
          "output_type": "stream",
          "name": "stderr",
          "text": [
            "/usr/local/lib/python3.7/dist-packages/ipykernel_launcher.py:1: SettingWithCopyWarning: \n",
            "A value is trying to be set on a copy of a slice from a DataFrame.\n",
            "Try using .loc[row_indexer,col_indexer] = value instead\n",
            "\n",
            "See the caveats in the documentation: https://pandas.pydata.org/pandas-docs/stable/user_guide/indexing.html#returning-a-view-versus-a-copy\n",
            "  \"\"\"Entry point for launching an IPython kernel.\n",
            "/usr/local/lib/python3.7/dist-packages/ipykernel_launcher.py:2: SettingWithCopyWarning: \n",
            "A value is trying to be set on a copy of a slice from a DataFrame.\n",
            "Try using .loc[row_indexer,col_indexer] = value instead\n",
            "\n",
            "See the caveats in the documentation: https://pandas.pydata.org/pandas-docs/stable/user_guide/indexing.html#returning-a-view-versus-a-copy\n",
            "  \n"
          ]
        }
      ]
    },
    {
      "cell_type": "code",
      "metadata": {
        "id": "17v-xephwFpG"
      },
      "source": [
        "open_table = open_table.resample('W', on='Date').sum()\n",
        "close_table = close_table.resample('W', on='Date').sum()"
      ],
      "execution_count": 14,
      "outputs": []
    },
    {
      "cell_type": "markdown",
      "metadata": {
        "id": "AZuhY8exop0W"
      },
      "source": [
        "##Graficamos los datos"
      ]
    },
    {
      "cell_type": "code",
      "metadata": {
        "id": "tICT6_OGn4fW"
      },
      "source": [
        "#funcion para sacar el  nombre de las empresas segun  su sigla\n",
        "def plot_stock(symbol, df_acciones=df_acciones):\n",
        "    df_acciones[symbol].plot(alpha=2);"
      ],
      "execution_count": 15,
      "outputs": []
    },
    {
      "cell_type": "code",
      "metadata": {
        "colab": {
          "base_uri": "https://localhost:8080/",
          "height": 554
        },
        "id": "p2-VWAW1nmQy",
        "outputId": "22559ad8-b0ca-47c1-9c4c-8ba8866c9da9"
      },
      "source": [
        "plot_stock('Open')\n",
        "plot_stock('Close')\n",
        "plt.title('Valor de Open VS Close (DIS/USD)')\n",
        "plt.legend();"
      ],
      "execution_count": 16,
      "outputs": [
        {
          "output_type": "display_data",
          "data": {
            "image/png": "[encoded data removed]",
            "text/plain": [
              "<Figure size 1152x648 with 1 Axes>"
            ]
          },
          "metadata": {}
        }
      ]
    },
    {
      "cell_type": "markdown",
      "metadata": {
        "id": "EkT2iyZm30PK"
      },
      "source": [
        "##Grafica elbow o de codo"
      ]
    },
    {
      "cell_type": "code",
      "metadata": {
        "colab": {
          "base_uri": "https://localhost:8080/",
          "height": 571
        },
        "id": "J81iaAJ434Ut",
        "outputId": "e6a94b90-9936-44e4-f910-61844ff49d18"
      },
      "source": [
        "#%% Curva elbow para determinar valor óptimo de k.\n",
        "nc = range(1, 30) # El número de iteraciones que queremos hacer.\n",
        "kmeans = [KMeans(n_clusters=i) for i in nc]\n",
        "score = [kmeans[i].fit(open_table).score(open_table) for i in range(len(kmeans))]\n",
        "\n",
        "plt.xlabel('Número de clústeres (k)')\n",
        "plt.ylabel('Suma de los errores cuadráticos')\n",
        "plt.plot(nc,score)"
      ],
      "execution_count": 17,
      "outputs": [
        {
          "output_type": "execute_result",
          "data": {
            "text/plain": [
              "[<matplotlib.lines.Line2D at 0x7f59e5bb1d90>]"
            ]
          },
          "metadata": {},
          "execution_count": 17
        },
        {
          "output_type": "display_data",
          "data": {
            "image/png": "[encoded data removed]",
            "text/plain": [
              "<Figure size 1152x648 with 1 Axes>"
            ]
          },
          "metadata": {}
        }
      ]
    },
    {
      "cell_type": "code",
      "metadata": {
        "colab": {
          "base_uri": "https://localhost:8080/",
          "height": 571
        },
        "id": "XK3QCsQK6C20",
        "outputId": "9f5fc575-5075-4495-b7b4-b94223289b4d"
      },
      "source": [
        "#%% Curva elbow para determinar valor óptimo de k.\n",
        "nc = range(1, 30) # El número de iteraciones que queremos hacer.\n",
        "kmeans = [KMeans(n_clusters=i) for i in nc]\n",
        "score = [kmeans[i].fit(close_table).score(close_table) for i in range(len(kmeans))]\n",
        "\n",
        "plt.xlabel('Número de clústeres (k)')\n",
        "plt.ylabel('Suma de los errores cuadráticos')\n",
        "plt.plot(nc,score)"
      ],
      "execution_count": 18,
      "outputs": [
        {
          "output_type": "execute_result",
          "data": {
            "text/plain": [
              "[<matplotlib.lines.Line2D at 0x7f59e5b36e50>]"
            ]
          },
          "metadata": {},
          "execution_count": 18
        },
        {
          "output_type": "display_data",
          "data": {
            "image/png": "[encoded data removed]",
            "text/plain": [
              "<Figure size 1152x648 with 1 Axes>"
            ]
          },
          "metadata": {}
        }
      ]
    },
    {
      "cell_type": "markdown",
      "metadata": {
        "id": "5A-i8fGY6LTu"
      },
      "source": [
        "##Aplicar el algoritmo de K-mean"
      ]
    },
    {
      "cell_type": "code",
      "metadata": {
        "colab": {
          "base_uri": "https://localhost:8080/"
        },
        "id": "G1GURZVX6Vew",
        "outputId": "9bc557f4-7776-4708-9e1c-3efbdd836d1a"
      },
      "source": [
        "#%% Aplicación de k-means con k = 5.\n",
        "kmeans = KMeans(n_clusters=5).fit(open_table)\n",
        "centroids = kmeans.cluster_centers_\n",
        "print(centroids)   #coordenadas de los centroides"
      ],
      "execution_count": 19,
      "outputs": [
        {
          "output_type": "stream",
          "name": "stdout",
          "text": [
            "[[4.44462425]\n",
            " [3.59527411]\n",
            " [0.4479    ]\n",
            " [3.96916929]\n",
            " [4.24661927]]\n"
          ]
        }
      ]
    },
    {
      "cell_type": "code",
      "metadata": {
        "colab": {
          "base_uri": "https://localhost:8080/"
        },
        "id": "Zvim3oXK6QOv",
        "outputId": "7fe8ff55-4b1e-4cb3-e9e1-b44c8c4c8e96"
      },
      "source": [
        "#%% Aplicación de k-means con k = 5.\n",
        "kmeans = KMeans(n_clusters=5).fit(close_table)\n",
        "centroids = kmeans.cluster_centers_\n",
        "print(centroids)   #coordenadas de los centroides"
      ],
      "execution_count": 20,
      "outputs": [
        {
          "output_type": "stream",
          "name": "stdout",
          "text": [
            "[[3.96910798]\n",
            " [4.24609044]\n",
            " [0.447995  ]\n",
            " [4.44408325]\n",
            " [3.59525875]]\n"
          ]
        }
      ]
    }
  ]
}