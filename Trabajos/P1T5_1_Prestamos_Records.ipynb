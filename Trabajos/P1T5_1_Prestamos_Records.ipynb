{
  "nbformat": 4,
  "nbformat_minor": 0,
  "metadata": {
    "colab": {
      "name": "P1T5.1_Prestamos_Records.ipynb",
      "provenance": [],
      "collapsed_sections": [],
      "toc_visible": true
    },
    "kernelspec": {
      "name": "python3",
      "display_name": "Python 3"
    },
    "language_info": {
      "name": "python"
    }
  },
  "cells": [
    {
      "cell_type": "markdown",
      "metadata": {
        "id": "IdSzXrTDDxGI"
      },
      "source": [
        "#**Prestamos_records.csv**\n",
        "\n",
        "---\n",
        "\n"
      ]
    },
    {
      "cell_type": "markdown",
      "metadata": {
        "id": "7XJw_C2tQmXh"
      },
      "source": [
        "#**TABLA GENERAL**"
      ]
    },
    {
      "cell_type": "code",
      "metadata": {
        "colab": {
          "base_uri": "https://localhost:8080/",
          "height": 359
        },
        "id": "DPnsT7hCDzA7",
        "outputId": "5922df74-600e-4d07-8402-f2f1528ae462"
      },
      "source": [
        "import pandas as pd\n",
        "df = pd.read_csv(\"https://raw.githubusercontent.com/luisFernandoCastellanosG/Machine_learning/master/DataScience/DataSet's/prestamos_records.csv\")\n",
        "df.head(10) #Cambia cuantas filas se visualiza"
      ],
      "execution_count": null,
      "outputs": [
        {
          "output_type": "execute_result",
          "data": {
            "text/html": [
              "<div>\n",
              "<style scoped>\n",
              "    .dataframe tbody tr th:only-of-type {\n",
              "        vertical-align: middle;\n",
              "    }\n",
              "\n",
              "    .dataframe tbody tr th {\n",
              "        vertical-align: top;\n",
              "    }\n",
              "\n",
              "    .dataframe thead th {\n",
              "        text-align: right;\n",
              "    }\n",
              "</style>\n",
              "<table border=\"1\" class=\"dataframe\">\n",
              "  <thead>\n",
              "    <tr style=\"text-align: right;\">\n",
              "      <th></th>\n",
              "      <th>RECORD_CREATION_DATE</th>\n",
              "      <th>MONTO_DEL_PRESTAMO</th>\n",
              "      <th>RANGO_DEL_CREDITO</th>\n",
              "      <th>DEUDA_EXISTENTE</th>\n",
              "      <th>NOTAS_DEL_AGENTE</th>\n",
              "      <th>UBICACION_DE_LA_OFICINA</th>\n",
              "      <th>PRESTAMO_INCUMPLIDO</th>\n",
              "    </tr>\n",
              "  </thead>\n",
              "  <tbody>\n",
              "    <tr>\n",
              "      <th>0</th>\n",
              "      <td>01May2014:09:24:27.000000</td>\n",
              "      <td>2500</td>\n",
              "      <td>760-779</td>\n",
              "      <td>$10,001-$20,000</td>\n",
              "      <td>NaN</td>\n",
              "      <td>NORTHERN CALIFORNIA</td>\n",
              "      <td>FALSO</td>\n",
              "    </tr>\n",
              "    <tr>\n",
              "      <th>1</th>\n",
              "      <td>01May2014:09:48:36.000000</td>\n",
              "      <td>2500</td>\n",
              "      <td>700-719</td>\n",
              "      <td>$1-$10,000</td>\n",
              "      <td>Ingreso anual neto: $25,400</td>\n",
              "      <td>SOUTHERN CALIFORNIA</td>\n",
              "      <td>FALSO</td>\n",
              "    </tr>\n",
              "    <tr>\n",
              "      <th>2</th>\n",
              "      <td>01May2014:10:10:36.000000</td>\n",
              "      <td>6300</td>\n",
              "      <td>740-759</td>\n",
              "      <td>$100,000+</td>\n",
              "      <td>NaN</td>\n",
              "      <td>ARIZONA</td>\n",
              "      <td>VERDADERO</td>\n",
              "    </tr>\n",
              "    <tr>\n",
              "      <th>3</th>\n",
              "      <td>01May2014:10:31:25.000000</td>\n",
              "      <td>4300</td>\n",
              "      <td>780-799</td>\n",
              "      <td>$1-$10,000</td>\n",
              "      <td>Ingreso anual neto: $191,900</td>\n",
              "      <td>SOUTHERN CALIFORNIA</td>\n",
              "      <td>FALSO</td>\n",
              "    </tr>\n",
              "    <tr>\n",
              "      <th>4</th>\n",
              "      <td>01May2014:10:46:54.000000</td>\n",
              "      <td>20100</td>\n",
              "      <td>780-799</td>\n",
              "      <td>$90,001-$100,000</td>\n",
              "      <td>Pagos mensuales de deuda verificados: $1,700</td>\n",
              "      <td>SOUTHERN CALIFORNIA</td>\n",
              "      <td>VERDADERO</td>\n",
              "    </tr>\n",
              "    <tr>\n",
              "      <th>5</th>\n",
              "      <td>01May2014:11:14:12.000000</td>\n",
              "      <td>6600</td>\n",
              "      <td>760-779</td>\n",
              "      <td>$10,001-$20,000</td>\n",
              "      <td>NaN</td>\n",
              "      <td>NORTHERN CALIFORNIA</td>\n",
              "      <td>FALSO</td>\n",
              "    </tr>\n",
              "    <tr>\n",
              "      <th>6</th>\n",
              "      <td>01May2014:11:23:11.000000</td>\n",
              "      <td>2500</td>\n",
              "      <td>700-719</td>\n",
              "      <td>$100,000+</td>\n",
              "      <td>Ingreso anual neto: $63,100</td>\n",
              "      <td>ARIZONA</td>\n",
              "      <td>VERDADERO</td>\n",
              "    </tr>\n",
              "    <tr>\n",
              "      <th>7</th>\n",
              "      <td>01May2014:11:53:24.000000</td>\n",
              "      <td>10000</td>\n",
              "      <td>760-779</td>\n",
              "      <td>$20,001-$30,000</td>\n",
              "      <td>NaN</td>\n",
              "      <td>SOUTHERN CALIFORNIA</td>\n",
              "      <td>FALSO</td>\n",
              "    </tr>\n",
              "    <tr>\n",
              "      <th>8</th>\n",
              "      <td>01May2014:12:18:53.000000</td>\n",
              "      <td>8900</td>\n",
              "      <td>740-759</td>\n",
              "      <td>$80,001-$90,000</td>\n",
              "      <td>NaN</td>\n",
              "      <td>NORTHERN CALIFORNIA</td>\n",
              "      <td>FALSO</td>\n",
              "    </tr>\n",
              "    <tr>\n",
              "      <th>9</th>\n",
              "      <td>01May2014:12:32:41.000000</td>\n",
              "      <td>2500</td>\n",
              "      <td>760-779</td>\n",
              "      <td>$30,001-$40,000</td>\n",
              "      <td>Pagos mensuales de deuda verificados: $590...I...</td>\n",
              "      <td>NORTHERN CALIFORNIA</td>\n",
              "      <td>FALSO</td>\n",
              "    </tr>\n",
              "  </tbody>\n",
              "</table>\n",
              "</div>"
            ],
            "text/plain": [
              "        RECORD_CREATION_DATE  ...  PRESTAMO_INCUMPLIDO\n",
              "0  01May2014:09:24:27.000000  ...                FALSO\n",
              "1  01May2014:09:48:36.000000  ...                FALSO\n",
              "2  01May2014:10:10:36.000000  ...            VERDADERO\n",
              "3  01May2014:10:31:25.000000  ...                FALSO\n",
              "4  01May2014:10:46:54.000000  ...            VERDADERO\n",
              "5  01May2014:11:14:12.000000  ...                FALSO\n",
              "6  01May2014:11:23:11.000000  ...            VERDADERO\n",
              "7  01May2014:11:53:24.000000  ...                FALSO\n",
              "8  01May2014:12:18:53.000000  ...                FALSO\n",
              "9  01May2014:12:32:41.000000  ...                FALSO\n",
              "\n",
              "[10 rows x 7 columns]"
            ]
          },
          "metadata": {
            "tags": []
          },
          "execution_count": 1
        }
      ]
    },
    {
      "cell_type": "markdown",
      "metadata": {
        "id": "Lqra6Hk9JDVK"
      },
      "source": [
        "#**Filtros**"
      ]
    },
    {
      "cell_type": "markdown",
      "metadata": {
        "id": "5QeXtNx573eJ"
      },
      "source": [
        "#MONTO DEL PRESTAMO"
      ]
    },
    {
      "cell_type": "markdown",
      "metadata": {
        "id": "ruCPjLBQ765A"
      },
      "source": [
        "##Ver y contar cantidades de prestamo en un rango determinado"
      ]
    },
    {
      "cell_type": "code",
      "metadata": {
        "colab": {
          "base_uri": "https://localhost:8080/"
        },
        "id": "YcpM_Ja58RDA",
        "outputId": "9592a88b-80a8-4e9c-d6f8-9650a76c9ba6"
      },
      "source": [
        "import matplotlib.pyplot as plt\n",
        "import pandas as pd\n",
        "\n",
        "df = pd.read_csv(\"https://raw.githubusercontent.com/luisFernandoCastellanosG/Machine_learning/master/DataScience/DataSet's/prestamos_records.csv\")\n",
        "\n",
        "#print(sum(list(df.value_counts(\"MONTO_DEL_PRESTAMO\")))) #Comprobar que no halla datos Null\n",
        "\n",
        "dictMontoPres = dict(df.value_counts(\"MONTO_DEL_PRESTAMO\"))\n",
        "\n",
        "for i in range(len(dictRanCred)):\n",
        "  print(f\"En el rango de credito\",list(dictRanCred.keys())[i],\"hay\",list(dictRanCred.values())[i],\"prestamos\")\n",
        "\n",
        "\n",
        "\n",
        "print(dictMontoPres.values()) #Veces que se repite\n",
        "print(dictMontoPres.keys()) #Valor del monto que se repite"
      ],
      "execution_count": 117,
      "outputs": [
        {
          "output_type": "stream",
          "text": [
            "dict_values([2729, 118, 117, 115, 113, 110, 108, 107, 105, 103, 102, 93, 93, 89, 85, 82, 80, 80, 69, 68, 64, 63, 61, 61, 60, 60, 57, 56, 56, 56, 54, 53, 53, 51, 49, 49, 48, 46, 46, 46, 45, 45, 44, 44, 42, 42, 37, 37, 36, 35, 33, 33, 33, 33, 33, 33, 33, 32, 30, 30, 30, 29, 29, 28, 27, 25, 25, 24, 23, 23, 23, 22, 22, 21, 21, 19, 19, 19, 19, 19, 18, 18, 17, 17, 16, 16, 16, 16, 15, 15, 14, 14, 14, 14, 14, 13, 13, 13, 13, 13, 12, 12, 12, 12, 12, 12, 11, 11, 11, 11, 10, 10, 10, 10, 10, 10, 10, 10, 10, 10, 9, 9, 9, 9, 9, 9, 9, 8, 8, 8, 8, 8, 8, 7, 7, 7, 7, 7, 7, 7, 7, 7, 7, 7, 7, 7, 7, 6, 6, 6, 6, 6, 6, 6, 6, 6, 6, 6, 6, 6, 5, 5, 5, 5, 5, 5, 5, 5, 5, 5, 5, 5, 4, 4, 4, 4, 4, 4, 4, 4, 4, 4, 4, 4, 4, 4, 4, 4, 4, 4, 3, 3, 3, 3, 3, 3, 3, 3, 3, 3, 3, 3, 3, 3, 3, 3, 3, 3, 3, 3, 3, 3, 3, 3, 3, 3, 3, 3, 3, 3, 3, 3, 2, 2, 2, 2, 2, 2, 2, 2, 2, 2, 2, 2, 2, 2, 2, 2, 2, 2, 2, 2, 2, 2, 2, 2, 2, 2, 2, 2, 2, 2, 2, 2, 2, 1, 1, 1, 1, 1, 1, 1, 1, 1, 1, 1, 1, 1, 1, 1, 1, 1, 1, 1, 1, 1, 1, 1, 1, 1, 1, 1, 1, 1, 1, 1, 1, 1, 1, 1, 1, 1, 1, 1, 1, 1, 1, 1, 1, 1, 1, 1, 1, 1, 1, 1, 1])\n",
            "dict_keys([2500, 35000, 2600, 2900, 3100, 3000, 2700, 2800, 3800, 3300, 3200, 3500, 3400, 3600, 4000, 3700, 3900, 4200, 4100, 4700, 4600, 5000, 5400, 5300, 4400, 4900, 6100, 4800, 5800, 4300, 5200, 4500, 5100, 5900, 7000, 6500, 6400, 5600, 6600, 5700, 6700, 6000, 6300, 5500, 7800, 6900, 6200, 6800, 8900, 7200, 7300, 7600, 7400, 7500, 7700, 8100, 8600, 8400, 10000, 7100, 8300, 9200, 8500, 9100, 9800, 9700, 7900, 8800, 9500, 10300, 8200, 8000, 10200, 10800, 11500, 9400, 11400, 10900, 9600, 11600, 8700, 11100, 9900, 10400, 12300, 10600, 10500, 9300, 11200, 9000, 11300, 15100, 14900, 12200, 10100, 13400, 14300, 14100, 13700, 12900, 14400, 18000, 10700, 12500, 11000, 12800, 13000, 12100, 11800, 11900, 18200, 17000, 15700, 17600, 12600, 11700, 16300, 14200, 13500, 13600, 14500, 12400, 15300, 15500, 14000, 16000, 14800, 17100, 16500, 13200, 18800, 13900, 12700, 16200, 16100, 15900, 15800, 15000, 14700, 18500, 18600, 17700, 21200, 19200, 20100, 20800, 32700, 19100, 18400, 14600, 15600, 13100, 17500, 12000, 24200, 19500, 26200, 20400, 13800, 16900, 16800, 19000, 16700, 24100, 15200, 17200, 17300, 17900, 18100, 19300, 15400, 20600, 21700, 13300, 22800, 23200, 23700, 31600, 23800, 20300, 19700, 17400, 19600, 19900, 16400, 19400, 20000, 21000, 19800, 20500, 25000, 18300, 31500, 24700, 25100, 25200, 25500, 25900, 30100, 26400, 26600, 27000, 29600, 29000, 23900, 21100, 23600, 22600, 21300, 21400, 21500, 20900, 21600, 20700, 21900, 22000, 22300, 18700, 23100, 23400, 23300, 28500, 32800, 31300, 34500, 30400, 30600, 28600, 29900, 33800, 31700, 29400, 31900, 28900, 33400, 24900, 27900, 34600, 21800, 22400, 22700, 23000, 16600, 23500, 24000, 24300, 27800, 24400, 24800, 25400, 26300, 26900, 27500, 27700, 18900, 34800, 34900, 32500, 30300, 30700, 30800, 31200, 31400, 31800, 32100, 32200, 32300, 32400, 32600, 29800, 32900, 33000, 33100, 33200, 33300, 33600, 33700, 34200, 34300, 34400, 30000, 29700, 20200, 26100, 22100, 22200, 22500, 22900, 24500, 24600, 25300, 25600, 25800, 26000, 26500, 29500, 26800, 27100, 27200, 27300, 27400, 28200, 28300, 29100, 29200, 29300, 17800])\n"
          ],
          "name": "stdout"
        }
      ]
    },
    {
      "cell_type": "code",
      "metadata": {
        "colab": {
          "base_uri": "https://localhost:8080/",
          "height": 792
        },
        "id": "xRxws1lbQumX",
        "outputId": "f29f532c-35cf-42e7-d1d6-6db61940882d"
      },
      "source": [
        "x = [dictMontoPres.values()]\n",
        "y = [dictMontoPres.keys()]\n",
        "\n",
        "fig, ax = plt.subplots()\n",
        "\n",
        "ax.plot(x, y)\n",
        "ax.set_xlim(5, 0)  # decreasing time\n",
        "ax.set_xlabel('decreasing time (s)')\n",
        "ax.set_ylabel('voltage (mV)')\n",
        "ax.set_title('Should be growing...')\n",
        "ax.grid(True)\n",
        "\n",
        "plt.show()"
      ],
      "execution_count": 128,
      "outputs": [
        {
          "output_type": "error",
          "ename": "TypeError",
          "evalue": "ignored",
          "traceback": [
            "\u001b[0;31m---------------------------------------------------------------------------\u001b[0m",
            "\u001b[0;31mTypeError\u001b[0m                                 Traceback (most recent call last)",
            "\u001b[0;32m<ipython-input-128-7de680a464b6>\u001b[0m in \u001b[0;36m<module>\u001b[0;34m()\u001b[0m\n\u001b[1;32m      4\u001b[0m \u001b[0mfig\u001b[0m\u001b[0;34m,\u001b[0m \u001b[0max\u001b[0m \u001b[0;34m=\u001b[0m \u001b[0mplt\u001b[0m\u001b[0;34m.\u001b[0m\u001b[0msubplots\u001b[0m\u001b[0;34m(\u001b[0m\u001b[0;34m)\u001b[0m\u001b[0;34m\u001b[0m\u001b[0;34m\u001b[0m\u001b[0m\n\u001b[1;32m      5\u001b[0m \u001b[0;34m\u001b[0m\u001b[0m\n\u001b[0;32m----> 6\u001b[0;31m \u001b[0max\u001b[0m\u001b[0;34m.\u001b[0m\u001b[0mplot\u001b[0m\u001b[0;34m(\u001b[0m\u001b[0mx\u001b[0m\u001b[0;34m,\u001b[0m \u001b[0my\u001b[0m\u001b[0;34m)\u001b[0m\u001b[0;34m\u001b[0m\u001b[0;34m\u001b[0m\u001b[0m\n\u001b[0m\u001b[1;32m      7\u001b[0m \u001b[0max\u001b[0m\u001b[0;34m.\u001b[0m\u001b[0mset_xlim\u001b[0m\u001b[0;34m(\u001b[0m\u001b[0;36m5\u001b[0m\u001b[0;34m,\u001b[0m \u001b[0;36m0\u001b[0m\u001b[0;34m)\u001b[0m  \u001b[0;31m# decreasing time\u001b[0m\u001b[0;34m\u001b[0m\u001b[0;34m\u001b[0m\u001b[0m\n\u001b[1;32m      8\u001b[0m \u001b[0max\u001b[0m\u001b[0;34m.\u001b[0m\u001b[0mset_xlabel\u001b[0m\u001b[0;34m(\u001b[0m\u001b[0;34m'decreasing time (s)'\u001b[0m\u001b[0;34m)\u001b[0m\u001b[0;34m\u001b[0m\u001b[0;34m\u001b[0m\u001b[0m\n",
            "\u001b[0;32m/usr/local/lib/python3.7/dist-packages/matplotlib/axes/_axes.py\u001b[0m in \u001b[0;36mplot\u001b[0;34m(self, scalex, scaley, data, *args, **kwargs)\u001b[0m\n\u001b[1;32m   1647\u001b[0m         \u001b[0mlines\u001b[0m \u001b[0;34m=\u001b[0m \u001b[0;34m[\u001b[0m\u001b[0;34m*\u001b[0m\u001b[0mself\u001b[0m\u001b[0;34m.\u001b[0m\u001b[0m_get_lines\u001b[0m\u001b[0;34m(\u001b[0m\u001b[0;34m*\u001b[0m\u001b[0margs\u001b[0m\u001b[0;34m,\u001b[0m \u001b[0mdata\u001b[0m\u001b[0;34m=\u001b[0m\u001b[0mdata\u001b[0m\u001b[0;34m,\u001b[0m \u001b[0;34m**\u001b[0m\u001b[0mkwargs\u001b[0m\u001b[0;34m)\u001b[0m\u001b[0;34m]\u001b[0m\u001b[0;34m\u001b[0m\u001b[0;34m\u001b[0m\u001b[0m\n\u001b[1;32m   1648\u001b[0m         \u001b[0;32mfor\u001b[0m \u001b[0mline\u001b[0m \u001b[0;32min\u001b[0m \u001b[0mlines\u001b[0m\u001b[0;34m:\u001b[0m\u001b[0;34m\u001b[0m\u001b[0;34m\u001b[0m\u001b[0m\n\u001b[0;32m-> 1649\u001b[0;31m             \u001b[0mself\u001b[0m\u001b[0;34m.\u001b[0m\u001b[0madd_line\u001b[0m\u001b[0;34m(\u001b[0m\u001b[0mline\u001b[0m\u001b[0;34m)\u001b[0m\u001b[0;34m\u001b[0m\u001b[0;34m\u001b[0m\u001b[0m\n\u001b[0m\u001b[1;32m   1650\u001b[0m         \u001b[0mself\u001b[0m\u001b[0;34m.\u001b[0m\u001b[0m_request_autoscale_view\u001b[0m\u001b[0;34m(\u001b[0m\u001b[0mscalex\u001b[0m\u001b[0;34m=\u001b[0m\u001b[0mscalex\u001b[0m\u001b[0;34m,\u001b[0m \u001b[0mscaley\u001b[0m\u001b[0;34m=\u001b[0m\u001b[0mscaley\u001b[0m\u001b[0;34m)\u001b[0m\u001b[0;34m\u001b[0m\u001b[0;34m\u001b[0m\u001b[0m\n\u001b[1;32m   1651\u001b[0m         \u001b[0;32mreturn\u001b[0m \u001b[0mlines\u001b[0m\u001b[0;34m\u001b[0m\u001b[0;34m\u001b[0m\u001b[0m\n",
            "\u001b[0;32m/usr/local/lib/python3.7/dist-packages/matplotlib/axes/_base.py\u001b[0m in \u001b[0;36madd_line\u001b[0;34m(self, line)\u001b[0m\n\u001b[1;32m   1848\u001b[0m             \u001b[0mline\u001b[0m\u001b[0;34m.\u001b[0m\u001b[0mset_clip_path\u001b[0m\u001b[0;34m(\u001b[0m\u001b[0mself\u001b[0m\u001b[0;34m.\u001b[0m\u001b[0mpatch\u001b[0m\u001b[0;34m)\u001b[0m\u001b[0;34m\u001b[0m\u001b[0;34m\u001b[0m\u001b[0m\n\u001b[1;32m   1849\u001b[0m \u001b[0;34m\u001b[0m\u001b[0m\n\u001b[0;32m-> 1850\u001b[0;31m         \u001b[0mself\u001b[0m\u001b[0;34m.\u001b[0m\u001b[0m_update_line_limits\u001b[0m\u001b[0;34m(\u001b[0m\u001b[0mline\u001b[0m\u001b[0;34m)\u001b[0m\u001b[0;34m\u001b[0m\u001b[0;34m\u001b[0m\u001b[0m\n\u001b[0m\u001b[1;32m   1851\u001b[0m         \u001b[0;32mif\u001b[0m \u001b[0;32mnot\u001b[0m \u001b[0mline\u001b[0m\u001b[0;34m.\u001b[0m\u001b[0mget_label\u001b[0m\u001b[0;34m(\u001b[0m\u001b[0;34m)\u001b[0m\u001b[0;34m:\u001b[0m\u001b[0;34m\u001b[0m\u001b[0;34m\u001b[0m\u001b[0m\n\u001b[1;32m   1852\u001b[0m             \u001b[0mline\u001b[0m\u001b[0;34m.\u001b[0m\u001b[0mset_label\u001b[0m\u001b[0;34m(\u001b[0m\u001b[0;34m'_line%d'\u001b[0m \u001b[0;34m%\u001b[0m \u001b[0mlen\u001b[0m\u001b[0;34m(\u001b[0m\u001b[0mself\u001b[0m\u001b[0;34m.\u001b[0m\u001b[0mlines\u001b[0m\u001b[0;34m)\u001b[0m\u001b[0;34m)\u001b[0m\u001b[0;34m\u001b[0m\u001b[0;34m\u001b[0m\u001b[0m\n",
            "\u001b[0;32m/usr/local/lib/python3.7/dist-packages/matplotlib/axes/_base.py\u001b[0m in \u001b[0;36m_update_line_limits\u001b[0;34m(self, line)\u001b[0m\n\u001b[1;32m   1870\u001b[0m         \u001b[0mFigures\u001b[0m \u001b[0mout\u001b[0m \u001b[0mthe\u001b[0m \u001b[0mdata\u001b[0m \u001b[0mlimit\u001b[0m \u001b[0mof\u001b[0m \u001b[0mthe\u001b[0m \u001b[0mgiven\u001b[0m \u001b[0mline\u001b[0m\u001b[0;34m,\u001b[0m \u001b[0mupdating\u001b[0m \u001b[0mself\u001b[0m\u001b[0;34m.\u001b[0m\u001b[0mdataLim\u001b[0m\u001b[0;34m.\u001b[0m\u001b[0;34m\u001b[0m\u001b[0;34m\u001b[0m\u001b[0m\n\u001b[1;32m   1871\u001b[0m         \"\"\"\n\u001b[0;32m-> 1872\u001b[0;31m         \u001b[0mpath\u001b[0m \u001b[0;34m=\u001b[0m \u001b[0mline\u001b[0m\u001b[0;34m.\u001b[0m\u001b[0mget_path\u001b[0m\u001b[0;34m(\u001b[0m\u001b[0;34m)\u001b[0m\u001b[0;34m\u001b[0m\u001b[0;34m\u001b[0m\u001b[0m\n\u001b[0m\u001b[1;32m   1873\u001b[0m         \u001b[0;32mif\u001b[0m \u001b[0mpath\u001b[0m\u001b[0;34m.\u001b[0m\u001b[0mvertices\u001b[0m\u001b[0;34m.\u001b[0m\u001b[0msize\u001b[0m \u001b[0;34m==\u001b[0m \u001b[0;36m0\u001b[0m\u001b[0;34m:\u001b[0m\u001b[0;34m\u001b[0m\u001b[0;34m\u001b[0m\u001b[0m\n\u001b[1;32m   1874\u001b[0m             \u001b[0;32mreturn\u001b[0m\u001b[0;34m\u001b[0m\u001b[0;34m\u001b[0m\u001b[0m\n",
            "\u001b[0;32m/usr/local/lib/python3.7/dist-packages/matplotlib/lines.py\u001b[0m in \u001b[0;36mget_path\u001b[0;34m(self)\u001b[0m\n\u001b[1;32m   1025\u001b[0m         \"\"\"\n\u001b[1;32m   1026\u001b[0m         \u001b[0;32mif\u001b[0m \u001b[0mself\u001b[0m\u001b[0;34m.\u001b[0m\u001b[0m_invalidy\u001b[0m \u001b[0;32mor\u001b[0m \u001b[0mself\u001b[0m\u001b[0;34m.\u001b[0m\u001b[0m_invalidx\u001b[0m\u001b[0;34m:\u001b[0m\u001b[0;34m\u001b[0m\u001b[0;34m\u001b[0m\u001b[0m\n\u001b[0;32m-> 1027\u001b[0;31m             \u001b[0mself\u001b[0m\u001b[0;34m.\u001b[0m\u001b[0mrecache\u001b[0m\u001b[0;34m(\u001b[0m\u001b[0;34m)\u001b[0m\u001b[0;34m\u001b[0m\u001b[0;34m\u001b[0m\u001b[0m\n\u001b[0m\u001b[1;32m   1028\u001b[0m         \u001b[0;32mreturn\u001b[0m \u001b[0mself\u001b[0m\u001b[0;34m.\u001b[0m\u001b[0m_path\u001b[0m\u001b[0;34m\u001b[0m\u001b[0;34m\u001b[0m\u001b[0m\n\u001b[1;32m   1029\u001b[0m \u001b[0;34m\u001b[0m\u001b[0m\n",
            "\u001b[0;32m/usr/local/lib/python3.7/dist-packages/matplotlib/lines.py\u001b[0m in \u001b[0;36mrecache\u001b[0;34m(self, always)\u001b[0m\n\u001b[1;32m    673\u001b[0m         \u001b[0;32mif\u001b[0m \u001b[0malways\u001b[0m \u001b[0;32mor\u001b[0m \u001b[0mself\u001b[0m\u001b[0;34m.\u001b[0m\u001b[0m_invalidy\u001b[0m\u001b[0;34m:\u001b[0m\u001b[0;34m\u001b[0m\u001b[0;34m\u001b[0m\u001b[0m\n\u001b[1;32m    674\u001b[0m             \u001b[0myconv\u001b[0m \u001b[0;34m=\u001b[0m \u001b[0mself\u001b[0m\u001b[0;34m.\u001b[0m\u001b[0mconvert_yunits\u001b[0m\u001b[0;34m(\u001b[0m\u001b[0mself\u001b[0m\u001b[0;34m.\u001b[0m\u001b[0m_yorig\u001b[0m\u001b[0;34m)\u001b[0m\u001b[0;34m\u001b[0m\u001b[0;34m\u001b[0m\u001b[0m\n\u001b[0;32m--> 675\u001b[0;31m             \u001b[0my\u001b[0m \u001b[0;34m=\u001b[0m \u001b[0m_to_unmasked_float_array\u001b[0m\u001b[0;34m(\u001b[0m\u001b[0myconv\u001b[0m\u001b[0;34m)\u001b[0m\u001b[0;34m.\u001b[0m\u001b[0mravel\u001b[0m\u001b[0;34m(\u001b[0m\u001b[0;34m)\u001b[0m\u001b[0;34m\u001b[0m\u001b[0;34m\u001b[0m\u001b[0m\n\u001b[0m\u001b[1;32m    676\u001b[0m         \u001b[0;32melse\u001b[0m\u001b[0;34m:\u001b[0m\u001b[0;34m\u001b[0m\u001b[0;34m\u001b[0m\u001b[0m\n\u001b[1;32m    677\u001b[0m             \u001b[0my\u001b[0m \u001b[0;34m=\u001b[0m \u001b[0mself\u001b[0m\u001b[0;34m.\u001b[0m\u001b[0m_y\u001b[0m\u001b[0;34m\u001b[0m\u001b[0;34m\u001b[0m\u001b[0m\n",
            "\u001b[0;32m/usr/local/lib/python3.7/dist-packages/matplotlib/cbook/__init__.py\u001b[0m in \u001b[0;36m_to_unmasked_float_array\u001b[0;34m(x)\u001b[0m\n\u001b[1;32m   1315\u001b[0m         \u001b[0;32mreturn\u001b[0m \u001b[0mnp\u001b[0m\u001b[0;34m.\u001b[0m\u001b[0mma\u001b[0m\u001b[0;34m.\u001b[0m\u001b[0masarray\u001b[0m\u001b[0;34m(\u001b[0m\u001b[0mx\u001b[0m\u001b[0;34m,\u001b[0m \u001b[0mfloat\u001b[0m\u001b[0;34m)\u001b[0m\u001b[0;34m.\u001b[0m\u001b[0mfilled\u001b[0m\u001b[0;34m(\u001b[0m\u001b[0mnp\u001b[0m\u001b[0;34m.\u001b[0m\u001b[0mnan\u001b[0m\u001b[0;34m)\u001b[0m\u001b[0;34m\u001b[0m\u001b[0;34m\u001b[0m\u001b[0m\n\u001b[1;32m   1316\u001b[0m     \u001b[0;32melse\u001b[0m\u001b[0;34m:\u001b[0m\u001b[0;34m\u001b[0m\u001b[0;34m\u001b[0m\u001b[0m\n\u001b[0;32m-> 1317\u001b[0;31m         \u001b[0;32mreturn\u001b[0m \u001b[0mnp\u001b[0m\u001b[0;34m.\u001b[0m\u001b[0masarray\u001b[0m\u001b[0;34m(\u001b[0m\u001b[0mx\u001b[0m\u001b[0;34m,\u001b[0m \u001b[0mfloat\u001b[0m\u001b[0;34m)\u001b[0m\u001b[0;34m\u001b[0m\u001b[0;34m\u001b[0m\u001b[0m\n\u001b[0m\u001b[1;32m   1318\u001b[0m \u001b[0;34m\u001b[0m\u001b[0m\n\u001b[1;32m   1319\u001b[0m \u001b[0;34m\u001b[0m\u001b[0m\n",
            "\u001b[0;32m/usr/local/lib/python3.7/dist-packages/numpy/core/_asarray.py\u001b[0m in \u001b[0;36masarray\u001b[0;34m(a, dtype, order)\u001b[0m\n\u001b[1;32m     81\u001b[0m \u001b[0;34m\u001b[0m\u001b[0m\n\u001b[1;32m     82\u001b[0m     \"\"\"\n\u001b[0;32m---> 83\u001b[0;31m     \u001b[0;32mreturn\u001b[0m \u001b[0marray\u001b[0m\u001b[0;34m(\u001b[0m\u001b[0ma\u001b[0m\u001b[0;34m,\u001b[0m \u001b[0mdtype\u001b[0m\u001b[0;34m,\u001b[0m \u001b[0mcopy\u001b[0m\u001b[0;34m=\u001b[0m\u001b[0;32mFalse\u001b[0m\u001b[0;34m,\u001b[0m \u001b[0morder\u001b[0m\u001b[0;34m=\u001b[0m\u001b[0morder\u001b[0m\u001b[0;34m)\u001b[0m\u001b[0;34m\u001b[0m\u001b[0;34m\u001b[0m\u001b[0m\n\u001b[0m\u001b[1;32m     84\u001b[0m \u001b[0;34m\u001b[0m\u001b[0m\n\u001b[1;32m     85\u001b[0m \u001b[0;34m\u001b[0m\u001b[0m\n",
            "\u001b[0;31mTypeError\u001b[0m: float() argument must be a string or a number, not 'dict_keys'"
          ]
        },
        {
          "output_type": "display_data",
          "data": {
            "image/png": "[encoded data removed]",
            "text/plain": [
              "<Figure size 640x480 with 1 Axes>"
            ]
          },
          "metadata": {
            "tags": []
          }
        }
      ]
    },
    {
      "cell_type": "markdown",
      "metadata": {
        "id": "Rl2cD9SR5zgZ"
      },
      "source": [
        "#RANGO DEL CREDITO"
      ]
    },
    {
      "cell_type": "markdown",
      "metadata": {
        "id": "6DBjXG4y54cv"
      },
      "source": [
        "##Ver, filtrar y contar los rangos existentes"
      ]
    },
    {
      "cell_type": "code",
      "metadata": {
        "colab": {
          "base_uri": "https://localhost:8080/"
        },
        "id": "izA9XNXC57la",
        "outputId": "9d997812-4d7a-4e67-e795-9c263ae65d44"
      },
      "source": [
        "import matplotlib.pyplot as plt\n",
        "import pandas as pd\n",
        "\n",
        "df = pd.read_csv(\"https://raw.githubusercontent.com/luisFernandoCastellanosG/Machine_learning/master/DataScience/DataSet's/prestamos_records.csv\")\n",
        "\n",
        "dictRanCred = dict(df.value_counts(\"RANGO_DEL_CREDITO\"))\n",
        "\n",
        "for i in range(len(dictRanCred)):\n",
        "  print(f\"En el rango de credito\",list(dictRanCred.keys())[i],\"hay\",list(dictRanCred.values())[i],\"prestamos\")\n",
        "\n",
        "for j in range(len(df.RANGO_DEL_CREDITO)):\n",
        "  if type(list(dictRanCred.keys())[i]) is float:\n",
        "    list(dictRanCred.keys())[i] = \"0\" #Cambia todos los Null a String\n",
        "\n",
        "print(f\"Cantidad de prestamos activos:\",sum(dictRanCred.values())) #Los prestamos activos en total\n",
        "print(f\"Datos Nulos:\",len(df.RANGO_DEL_CREDITO) - sum(dictRanCred.values())) #Cuenta la cantidad de datos Nulos"
      ],
      "execution_count": 82,
      "outputs": [
        {
          "output_type": "stream",
          "text": [
            "En el rango de credito 700-719 hay 2081 prestamos\n",
            "En el rango de credito 740-759 hay 1708 prestamos\n",
            "En el rango de credito 780-799 hay 1393 prestamos\n",
            "En el rango de credito 760-779 hay 1233 prestamos\n",
            "En el rango de credito 720-739 hay 1015 prestamos\n",
            "En el rango de credito 800+ hay 570 prestamos\n",
            "Cantidad de prestamos activos: 8000\n",
            "Datos Nulos: 0\n"
          ],
          "name": "stdout"
        }
      ]
    },
    {
      "cell_type": "markdown",
      "metadata": {
        "id": "gMGiP97w7cpL"
      },
      "source": [
        "##Graficar lo anterior(Grafico de barras lateral)"
      ]
    },
    {
      "cell_type": "code",
      "metadata": {
        "colab": {
          "base_uri": "https://localhost:8080/",
          "height": 472
        },
        "id": "AIHJ35Pd7dkH",
        "outputId": "d645e4f9-a933-4ea2-bd94-9fc4fd8fa3de"
      },
      "source": [
        "plt.rcdefaults()\n",
        "fig, ax = plt.subplots()\n",
        "\n",
        "rangos = (list(dictRanCred.keys()))\n",
        "rangosTam = np.arange(len(rangos))\n",
        "cantidad = (list(dictRanCred.values())) \n",
        "\n",
        "ax.barh(rangosTam, cantidad, align='center')\n",
        "ax.set_yticks(rangosTam)\n",
        "ax.set_yticklabels(rangos)\n",
        "ax.set_xlabel('Cantidad')\n",
        "ax.set_ylabel('Rangos')\n",
        "ax.set_title('Rango Del Credito')\n",
        "\n",
        "plt.show()"
      ],
      "execution_count": 84,
      "outputs": [
        {
          "output_type": "display_data",
          "data": {
            "image/png": "[encoded data removed]",
            "text/plain": [
              "<Figure size 640x480 with 1 Axes>"
            ]
          },
          "metadata": {
            "tags": []
          }
        }
      ]
    },
    {
      "cell_type": "markdown",
      "metadata": {
        "id": "wp8agvoNdAyI"
      },
      "source": [
        "#DEUDA EXISTENTE(CODIGO Y GRAFICO)"
      ]
    },
    {
      "cell_type": "markdown",
      "metadata": {
        "id": "XcCui5xRdIho"
      },
      "source": [
        "##Ver, filtrar y contar los rangos existentes"
      ]
    },
    {
      "cell_type": "code",
      "metadata": {
        "colab": {
          "base_uri": "https://localhost:8080/"
        },
        "id": "ndpDcx42c9Io",
        "outputId": "6784037f-93fb-4c88-a52e-dcc05a403d37"
      },
      "source": [
        "import matplotlib.pyplot as plt\n",
        "import pandas as pd\n",
        "\n",
        "df = pd.read_csv(\"https://raw.githubusercontent.com/luisFernandoCastellanosG/Machine_learning/master/DataScience/DataSet's/prestamos_records.csv\")\n",
        "\n",
        "dictDeudaEx = dict(df.value_counts(\"DEUDA_EXISTENTE\"))\n",
        "\n",
        "for i in range(len(dictDeudaEx)):\n",
        "  print(f\"En el rango\",list(dictDeudaEx.keys())[i],\"Hay un total de\",list(dictDeudaEx.values())[i],\"prestamos con deudas.\")\n",
        "\n",
        "for j in range(len(df.DEUDA_EXISTENTE)):\n",
        "  if type(list(dictDeudaEx.keys())[i]) is float:\n",
        "    list(dictDeudaEx.keys())[i] = \"0\" #Cambia todos los Null a String\n",
        "\n",
        "print(f\"Cantidad de prestamos con deudas activos:\",sum(dictDeudaEx.values())) #Los prestamos activos en total\n",
        "print(f\"Datos Nulos:\",len(df.DEUDA_EXISTENTE) - sum(dictDeudaEx.values())) #Cuenta la cantidad de datos Nulos"
      ],
      "execution_count": 101,
      "outputs": [
        {
          "output_type": "stream",
          "text": [
            "En el rango $1-$10,000 Hay un total de 1184 prestamos con deudas.\n",
            "En el rango $10,001-$20,000 Hay un total de 1162 prestamos con deudas.\n",
            "En el rango $20,001-$30,000 Hay un total de 907 prestamos con deudas.\n",
            "En el rango $100,000+ Hay un total de 740 prestamos con deudas.\n",
            "En el rango $30,001-$40,000 Hay un total de 553 prestamos con deudas.\n",
            "En el rango $40,001-$50,000 Hay un total de 399 prestamos con deudas.\n",
            "En el rango $50,001-$60,000 Hay un total de 287 prestamos con deudas.\n",
            "En el rango $60,001-$70,000 Hay un total de 267 prestamos con deudas.\n",
            "En el rango $70,001-$80,000 Hay un total de 197 prestamos con deudas.\n",
            "En el rango $80,001-$90,000 Hay un total de 143 prestamos con deudas.\n",
            "En el rango $90,001-$100,000 Hay un total de 124 prestamos con deudas.\n",
            "Cantidad de prestamos con deudas activos: 5963\n",
            "Datos Nulos: 2037\n"
          ],
          "name": "stdout"
        }
      ]
    },
    {
      "cell_type": "markdown",
      "metadata": {
        "id": "rNKKregfzkPb"
      },
      "source": [
        "##Graficar lo anterior(Grafico de barras lateral)"
      ]
    },
    {
      "cell_type": "code",
      "metadata": {
        "colab": {
          "base_uri": "https://localhost:8080/",
          "height": 472
        },
        "id": "z2348x2xzx8g",
        "outputId": "d5f27184-154f-4e5c-b477-be3e80385845"
      },
      "source": [
        "plt.rcdefaults()\n",
        "fig, ax = plt.subplots()\n",
        "\n",
        "rangos = (list(dictDeudaEx.keys()))\n",
        "rangosTam = np.arange(len(rangos))\n",
        "cantidad = (list(dictDeudaEx.values())) \n",
        "\n",
        "ax.barh(rangosTam, cantidad, align='center')\n",
        "ax.set_yticks(rangosTam)\n",
        "ax.set_yticklabels(rangos)\n",
        "ax.set_xlabel('Cantidad')\n",
        "ax.set_ylabel('Rangos')\n",
        "ax.set_title('Prestamos Activos')\n",
        "\n",
        "plt.show()"
      ],
      "execution_count": 72,
      "outputs": [
        {
          "output_type": "display_data",
          "data": {
            "image/png": "[encoded data removed]",
            "text/plain": [
              "<Figure size 640x480 with 1 Axes>"
            ]
          },
          "metadata": {
            "tags": []
          }
        }
      ]
    },
    {
      "cell_type": "markdown",
      "metadata": {
        "id": "DgtHCrlWzste"
      },
      "source": [
        "#Notas del agente(Codigo y Grafico)"
      ]
    },
    {
      "cell_type": "markdown",
      "metadata": {
        "id": "-DKDzk2ez2pU"
      },
      "source": [
        "##Filtrar valores NULL, rellenarlos y comparar los valores nulos con los llenos"
      ]
    },
    {
      "cell_type": "code",
      "metadata": {
        "colab": {
          "base_uri": "https://localhost:8080/"
        },
        "id": "hGVm7XiV0T9Y",
        "outputId": "7d0fdc7b-0e72-465b-aa72-c0ec4e756baf"
      },
      "source": [
        "import matplotlib.pyplot as plt\n",
        "import pandas as pd\n",
        "\n",
        "df = pd.read_csv(\"https://raw.githubusercontent.com/luisFernandoCastellanosG/Machine_learning/master/DataScience/DataSet's/prestamos_records.csv\")\n",
        "\n",
        "listNotasAg = list(df.NOTAS_DEL_AGENTE)#Lo convierto en lista para manejarlo mas facil\n",
        "countNormal, countNull = 0, 0\n",
        "\n",
        "for i in range(len(listNotasAg)):\n",
        "  if type(listNotasAg[i]) is str:#Filtra los que tienen valores String\n",
        "    countNormal += 1\n",
        "  else: #Por alguna razon que desconzco el Null/None es Float xD y solo por eso se puede filtrar\n",
        "    countNull += 1\n",
        "    listNotasAg[i] = \"No existe informacion dada por el agente.\"#Cambia los Null por un String\n",
        "\n",
        "totalDatos=countNormal+countNull\n",
        "print(f\"La cantidad de datos no nulos es:\",countNormal,\"\\nY La cantidad de datos nulos es:\",countNull)#Esto es lo de comprar valores nulos con los llenos\n",
        "print(f\"La suma de todos los datos es:\",totalDatos)\n",
        "print(f\"Cantidad de datos Null rellenados:\",listNotasAg.count(\"No existe informacion dada por el agente.\"))#Cuenta cuantos datos se cambiaron de Null a String"
      ],
      "execution_count": 80,
      "outputs": [
        {
          "output_type": "stream",
          "text": [
            "La cantidad de datos no nulos es: 5064 \n",
            "Y La cantidad de datos nulos es: 2936\n",
            "La suma de todos los datos es: 8000\n",
            "Cantidad de datos Null rellenados: 2936\n"
          ],
          "name": "stdout"
        }
      ]
    },
    {
      "cell_type": "markdown",
      "metadata": {
        "id": "HtBH9Uc1V1Ap"
      },
      "source": [
        "##Graficar cantidad de datos Null a comparacion con los String (Grafico de barras)"
      ]
    },
    {
      "cell_type": "code",
      "metadata": {
        "colab": {
          "base_uri": "https://localhost:8080/",
          "height": 233
        },
        "id": "zhOiK8ZiWBfR",
        "outputId": "afac24bf-d987-4b90-c490-6f7123c4a077"
      },
      "source": [
        "names = [\"Datos String\", \"Datos Null\"]\n",
        "values = [countNormal, countNull] #Se ingresa los valores de cada variable\n",
        "\n",
        "plt.figure(figsize=(3, 3)) #Tamaño de la imagen para imprimir\n",
        "\n",
        "plt.bar(names, values)\n",
        "plt.suptitle(\"Cantidad de datos Null a comparacion con los String\")\n",
        "plt.show()"
      ],
      "execution_count": null,
      "outputs": [
        {
          "output_type": "display_data",
          "data": {
            "image/png": "[encoded data removed]",
            "text/plain": [
              "<Figure size 216x216 with 1 Axes>"
            ]
          },
          "metadata": {
            "tags": [],
            "needs_background": "light"
          }
        }
      ]
    },
    {
      "cell_type": "markdown",
      "metadata": {
        "id": "Ita7DNBHLDqb"
      },
      "source": [
        "#Ubicacion de la oficina (Codigo y Grafico)"
      ]
    },
    {
      "cell_type": "markdown",
      "metadata": {
        "id": "IzQI1QsBLYYY"
      },
      "source": [
        "##Filtrar, hacer porcentajes y decir donde hay mas prestamos"
      ]
    },
    {
      "cell_type": "code",
      "metadata": {
        "colab": {
          "base_uri": "https://localhost:8080/"
        },
        "id": "TsjijfiTL-_C",
        "outputId": "97f90a8f-c9cd-4d27-c8e5-31f0a7708b97"
      },
      "source": [
        "import matplotlib.pyplot as plt\n",
        "import pandas as pd\n",
        "\n",
        "df = pd.read_csv(\"https://raw.githubusercontent.com/luisFernandoCastellanosG/Machine_learning/master/DataScience/DataSet's/prestamos_records.csv\")\n",
        "\n",
        "nomU = list(set(list(df.UBICACION_DE_LA_OFICINA))) #Saque los datos y lo reduje para que no se repitieran\n",
        "\n",
        "for i in range(len(nomU)): #Ya no seran 8000 datos para mirar si no solo 6    \n",
        "  countNomU = df[df['UBICACION_DE_LA_OFICINA'] == nomU[i]]\n",
        "  print(f\"La oficina de\",nomU[i],\"tiene\",len(countNomU.axes[0]),\n",
        "          \"prestamos realizados, que equivale al\",(len(countNomU.axes[0]) / len(df.UBICACION_DE_LA_OFICINA))*100,\"% a nivel nacional.\") #Se hacen las operaciones y se escribe en orden\n",
        "\n",
        "dictNomU = dict(df.value_counts(\"UBICACION_DE_LA_OFICINA\"))#Convertimos en diccionario\n",
        "maxDictNomU = max(dictNomU,key=lambda key: dictNomU[key])#Dentro del diccionario buscamos el valor mas alto\n",
        "\n",
        "print(f\"\\n La mayor cantidad de prestamos es\",max(df.value_counts(\"UBICACION_DE_LA_OFICINA\")),\"de\",maxDictNomU)#Se agregan los resultados\n",
        "print(f\"\\n\",df.value_counts(\"UBICACION_DE_LA_OFICINA\"),f\"\\n\") #Aca comprobamos que de verdad se pusieron los datos correctos"
      ],
      "execution_count": null,
      "outputs": [
        {
          "output_type": "stream",
          "text": [
            "La oficina de NORTHERN CALIFORNIA tiene 1715 prestamos realizados, que equivale al 21.4375 % a nivel nacional.\n",
            "La oficina de ARIZONA tiene 1621 prestamos realizados, que equivale al 20.2625 % a nivel nacional.\n",
            "La oficina de WASHINGTON STATE tiene 774 prestamos realizados, que equivale al 9.675 % a nivel nacional.\n",
            "La oficina de OREGON tiene 755 prestamos realizados, que equivale al 9.4375 % a nivel nacional.\n",
            "La oficina de NEVADA tiene 1039 prestamos realizados, que equivale al 12.987499999999999 % a nivel nacional.\n",
            "La oficina de SOUTHERN CALIFORNIA tiene 2096 prestamos realizados, que equivale al 26.200000000000003 % a nivel nacional.\n",
            "\n",
            " La mayor cantidad de prestamos es 2096 de SOUTHERN CALIFORNIA\n",
            "\n",
            " UBICACION_DE_LA_OFICINA\n",
            "SOUTHERN CALIFORNIA    2096\n",
            "NORTHERN CALIFORNIA    1715\n",
            "ARIZONA                1621\n",
            "NEVADA                 1039\n",
            "WASHINGTON STATE        774\n",
            "OREGON                  755\n",
            "dtype: int64 \n",
            "\n"
          ],
          "name": "stdout"
        }
      ]
    },
    {
      "cell_type": "markdown",
      "metadata": {
        "id": "DR-bMU_Yuuhj"
      },
      "source": [
        "##Graficar el proceso anterior (Grafico Circular)"
      ]
    },
    {
      "cell_type": "code",
      "metadata": {
        "colab": {
          "base_uri": "https://localhost:8080/",
          "height": 252
        },
        "id": "jtJocpcfum6h",
        "outputId": "1d45ce03-276d-4fb1-b9c6-e7d273fbb83b"
      },
      "source": [
        "labels = list(dictNomU.keys())#Los nombres\n",
        "sizes = list(dictNomU.values())#Los valores\n",
        "explode = (0.1, 0, 0, 0, 0, 0)#Para decidir cual valor va a destacar\n",
        "\n",
        "fig1, ax1 = plt.subplots() #Para generar el grafico\n",
        "ax1.pie(sizes, explode=explode, labels=labels, autopct='%1.1f%%',\n",
        "        shadow=True, startangle=45)\n",
        "ax1.axis('equal')\n",
        "\n",
        "plt.show()"
      ],
      "execution_count": null,
      "outputs": [
        {
          "output_type": "display_data",
          "data": {
            "image/png": "[encoded data removed]",
            "text/plain": [
              "<Figure size 432x288 with 1 Axes>"
            ]
          },
          "metadata": {
            "tags": []
          }
        }
      ]
    },
    {
      "cell_type": "markdown",
      "metadata": {
        "id": "ne6DNJl3LJBO"
      },
      "source": [
        "#Prestamo Incumplido (Codigo y Grafico)"
      ]
    },
    {
      "cell_type": "markdown",
      "metadata": {
        "id": "JGxFl4bFQkhq"
      },
      "source": [
        "##Filtrar y contar (Codigo)"
      ]
    },
    {
      "cell_type": "code",
      "metadata": {
        "colab": {
          "base_uri": "https://localhost:8080/"
        },
        "id": "A41t05duSZ6B",
        "outputId": "b7fab380-8435-4259-d3de-80e58f68acd2"
      },
      "source": [
        "import matplotlib.pyplot as plt\n",
        "import pandas as pd\n",
        "df = pd.read_csv(\"https://raw.githubusercontent.com/luisFernandoCastellanosG/Machine_learning/master/DataScience/DataSet's/prestamos_records.csv\")\n",
        "\n",
        "countF = df[df['PRESTAMO_INCUMPLIDO'] == \"FALSO\"] #Cuenta cuantos Falso hay en la tabla\n",
        "print(f\"Cantidad de gente que no cumple: \",len(countF.axes[0])) #Saca el numero exacto\n",
        "\n",
        "countV = df[df['PRESTAMO_INCUMPLIDO'] == \"VERDADERO\"] #Cuenta cuantos Verdadero hay en la tabla\n",
        "print(f\"Cantidad de gente que cumple: \",len(countV.axes[0])) #Saca el numero exacto\n",
        "\n",
        "print(f\"Total para comprobar que tomo todos los datos de la tabla: \",len(countV)+len(countF)) #Suma para comprobar que sume 8000"
      ],
      "execution_count": null,
      "outputs": [
        {
          "output_type": "stream",
          "text": [
            "Cantidad de gente que no cumple:  6725\n",
            "Cantidad de gente que cumple:  1275\n",
            "Total para comprobar que tomo todos los datos de la tabla:  8000\n"
          ],
          "name": "stdout"
        }
      ]
    },
    {
      "cell_type": "markdown",
      "metadata": {
        "id": "czgRIVhdJP4u"
      },
      "source": [
        "##Filtrar, contar y graficar (Grafico de barras)"
      ]
    },
    {
      "cell_type": "code",
      "metadata": {
        "colab": {
          "base_uri": "https://localhost:8080/",
          "height": 233
        },
        "id": "b4CWabgYQrU_",
        "outputId": "318a4d75-05ce-48f0-984b-db1082780131"
      },
      "source": [
        "names = [\"Verdadero\", \"Falso\"]\n",
        "values = [len(countV.axes[0]), len(countF.axes[0])] #Se ingresa los valores de cada variable\n",
        "\n",
        "plt.figure(figsize=(3, 3)) #Tamaño de la imagen para imprimir\n",
        "\n",
        "plt.bar(names, values)\n",
        "plt.suptitle(\"Prestamo Incumplido\")\n",
        "plt.show()"
      ],
      "execution_count": null,
      "outputs": [
        {
          "output_type": "display_data",
          "data": {
            "image/png": "[encoded data removed]",
            "text/plain": [
              "<Figure size 216x216 with 1 Axes>"
            ]
          },
          "metadata": {
            "tags": [],
            "needs_background": "light"
          }
        }
      ]
    }
  ]
}